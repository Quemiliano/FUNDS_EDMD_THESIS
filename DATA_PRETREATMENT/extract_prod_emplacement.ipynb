{
 "cells": [
  {
   "cell_type": "code",
   "execution_count": 12,
   "id": "02ed7e10",
   "metadata": {},
   "outputs": [],
   "source": [
    "import pandas as pd \n",
    "\n",
    "prod_energie_data = pd.read_excel(f\"/home/emiliano/Documents/MASTER_MAS/ALTERNANCE/FONDS VERT/DATA/PROD_ENERGIE/prod_energie.xlsx\")\n",
    "\n",
    "prod_energie_data = prod_energie_data.rename(columns= {\"insee_com\": \"code_com\"})\n",
    "\n",
    "prod_energie_data = prod_energie_data[[\"code_com\",\"filiere\", \"x_rgf93\",\t\"y_rgf93\"]]\n",
    "\n",
    "prod_energie_data.columns= [\"code_com\",\"filiere\", \"lambert_x\",\t\"lambert_y\"]\n",
    "prod_energie_unique = prod_energie_data.groupby([\"code_com\",\"filiere\", \"lambert_x\",\t\"lambert_y\"], as_index=False).count()\n",
    "\n",
    "prod_energie_unique.to_csv(f\"loc_prod_energie.csv\", index=False)\n"
   ]
  }
 ],
 "metadata": {
  "kernelspec": {
   "display_name": "Python 3",
   "language": "python",
   "name": "python3"
  },
  "language_info": {
   "codemirror_mode": {
    "name": "ipython",
    "version": 3
   },
   "file_extension": ".py",
   "mimetype": "text/x-python",
   "name": "python",
   "nbconvert_exporter": "python",
   "pygments_lexer": "ipython3",
   "version": "3.10.12"
  }
 },
 "nbformat": 4,
 "nbformat_minor": 5
}
